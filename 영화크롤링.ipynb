{
 "cells": [
  {
   "cell_type": "code",
   "execution_count": 1,
   "metadata": {},
   "outputs": [],
   "source": [
    "import requests\n",
    "from bs4 import BeautifulSoup\n",
    "import pandas as pd"
   ]
  },
  {
   "cell_type": "code",
   "execution_count": 15,
   "metadata": {},
   "outputs": [],
   "source": [
    "class Movie:\n",
    "    def __init__(self, title, overview, poster):\n",
    "        self.title = title\n",
    "        self.overview = overview\n",
    "        self.poster = poster\n",
    "        \n",
    "def getMovies(items):\n",
    "    movies = []\n",
    "    for item in items:\n",
    "        title_link = item.find('a', {'class': 'title result'})\n",
    "        title = title_link and title_link.text or None\n",
    "            \n",
    "        overview_link = item.find('p', {'class': 'overview'})\n",
    "        overview = overview_link and overview_link.text or None\n",
    "        \n",
    "        img_link = item.find('img', {'class': 'poster'})\n",
    "        poster = img_link and img_link['data-src'] or None\n",
    "        \n",
    "        movies.append(Movie(title, overview, poster))\n",
    "    return movies\n",
    "\n",
    "def getPageDivs(page):\n",
    "    url = \"https://www.themoviedb.org/movie?page={0}\".format(page)\n",
    "    req = requests.get(url)\n",
    "    html = req.text\n",
    "    soup = BeautifulSoup(html, 'html.parser')\n",
    "    #movie divs\n",
    "    divs = soup.find('div', {'class': 'results_poster_card'}).findChildren(\"div\" , {'class': 'item poster card'}, recursive=False)\n",
    "    movies = getMovies(divs)\n",
    "    return movies\n",
    "    "
   ]
  },
  {
   "cell_type": "code",
   "execution_count": 25,
   "metadata": {},
   "outputs": [
    {
     "name": "stdout",
     "output_type": "stream",
     "text": [
      "1 페이지 진행중...\n",
      "21 페이지 진행중...\n",
      "41 페이지 진행중...\n",
      "61 페이지 진행중...\n",
      "81 페이지 진행중...\n",
      "101 페이지 진행중...\n",
      "121 페이지 진행중...\n",
      "141 페이지 진행중...\n",
      "161 페이지 진행중...\n",
      "181 페이지 진행중...\n",
      "201 페이지 진행중...\n",
      "221 페이지 진행중...\n",
      "241 페이지 진행중...\n",
      "261 페이지 진행중...\n",
      "281 페이지 진행중...\n",
      "301 페이지 진행중...\n",
      "321 페이지 진행중...\n",
      "341 페이지 진행중...\n",
      "361 페이지 진행중...\n",
      "381 페이지 진행중...\n",
      "401 페이지 진행중...\n",
      "421 페이지 진행중...\n",
      "441 페이지 진행중...\n",
      "461 페이지 진행중...\n",
      "481 페이지 진행중...\n",
      "501 페이지 진행중...\n",
      "521 페이지 진행중...\n",
      "541 페이지 진행중...\n",
      "561 페이지 진행중...\n",
      "581 페이지 진행중...\n",
      "601 페이지 진행중...\n",
      "621 페이지 진행중...\n",
      "641 페이지 진행중...\n",
      "661 페이지 진행중...\n",
      "681 페이지 진행중...\n",
      "701 페이지 진행중...\n",
      "721 페이지 진행중...\n",
      "741 페이지 진행중...\n",
      "761 페이지 진행중...\n",
      "781 페이지 진행중...\n",
      "801 페이지 진행중...\n",
      "821 페이지 진행중...\n",
      "841 페이지 진행중...\n",
      "861 페이지 진행중...\n",
      "881 페이지 진행중...\n",
      "901 페이지 진행중...\n",
      "921 페이지 진행중...\n",
      "941 페이지 진행중...\n",
      "961 페이지 진행중...\n",
      "981 페이지 진행중...\n"
     ]
    }
   ],
   "source": [
    "#paging\n",
    "all_movies = []\n",
    "for i in range(0, 998):\n",
    "    if(i % 20 == 0):\n",
    "        print(i + 1, '페이지 진행중...')\n",
    "    movies = getPageDivs(i + 1)\n",
    "    all_movies += movies"
   ]
  },
  {
   "cell_type": "code",
   "execution_count": 27,
   "metadata": {},
   "outputs": [
    {
     "data": {
      "text/plain": [
       "overview     0\n",
       "poster      40\n",
       "title        0\n",
       "dtype: int64"
      ]
     },
     "execution_count": 27,
     "metadata": {},
     "output_type": "execute_result"
    }
   ],
   "source": [
    "movies2 = list(map(lambda m: m.__dict__, all_movies))\n",
    "df = pd.DataFrame(movies2)\n",
    "df.to_csv('./movies.csv')\n",
    "\n",
    "df.isnull().sum()"
   ]
  },
  {
   "cell_type": "code",
   "execution_count": null,
   "metadata": {},
   "outputs": [],
   "source": []
  }
 ],
 "metadata": {
  "kernelspec": {
   "display_name": "Python 3",
   "language": "python",
   "name": "python3"
  },
  "language_info": {
   "codemirror_mode": {
    "name": "ipython",
    "version": 3
   },
   "file_extension": ".py",
   "mimetype": "text/x-python",
   "name": "python",
   "nbconvert_exporter": "python",
   "pygments_lexer": "ipython3",
   "version": "3.7.3"
  }
 },
 "nbformat": 4,
 "nbformat_minor": 2
}
